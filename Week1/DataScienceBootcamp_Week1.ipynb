{
  "nbformat": 4,
  "nbformat_minor": 0,
  "metadata": {
    "colab": {
      "provenance": []
    },
    "kernelspec": {
      "name": "python3",
      "display_name": "Python 3"
    },
    "language_info": {
      "name": "python"
    }
  },
  "cells": [
    {
      "cell_type": "markdown",
      "source": [
        "## **Data Science Bootcamp, Spring' 23**\n",
        "\n",
        "<br>\n",
        "\n",
        "---\n",
        "\n",
        "### Lecture 1 : **Introduction to Python**\n",
        "\n",
        "#### Instructor: **Kartik Jindgar**\n",
        "\n",
        "##### March 2023\n"
      ],
      "metadata": {
        "id": "kk04ry-vQIjl"
      }
    },
    {
      "cell_type": "markdown",
      "source": [
        "### Primitive Datatypes\n",
        "\n",
        "---\n",
        "Python has the following primitive datatypes:\n",
        "\n",
        "<br>\n",
        "\n",
        "|Datatype|Description | Examples|\n",
        "|-----|---------------- |------------|\n",
        "| Int | Integer Numbers | 1,2,3...|\n",
        "|Float| Real Numbers    | 3.14    |\n",
        "|String| Text Contents | \"Hello World\"|\n",
        "|Bool | Boolean Values| True, False|\n",
        "|NoneType| Special Type | None|\n",
        "\n",
        "<br>\n",
        "\n",
        "Their syntax is given in the next cell\n",
        "\n",
        "\n",
        "\n"
      ],
      "metadata": {
        "id": "qt6kPAPOQ33V"
      }
    },
    {
      "cell_type": "code",
      "source": [
        "a = 10 \n",
        "b = 3.14 \n",
        "c = \"Hello World\"\n",
        "d = True\n",
        "e = None\n",
        "\n",
        "print(\"a is - \",type(a) )\n",
        "print(\"b is - \",type(b) )\n",
        "print(\"c is - \",type(c) )\n",
        "print(\"d is - \",type(d) )\n",
        "print(\"e is - \",type(e) )"
      ],
      "metadata": {
        "id": "YkTbMSOlQJOX"
      },
      "execution_count": null,
      "outputs": []
    },
    {
      "cell_type": "markdown",
      "source": [
        "### Expressions and Operators\n",
        "\n",
        "---\n",
        "<br>\n",
        "\n",
        "Expressions combine different **objects** and **operators**. An expression has a value and value has a type...\n",
        "\n",
        "<br>\n",
        "\n",
        "| Arithmetic | Comparison| Boolean |\n",
        "|------------|-----------|---------|\n",
        "|= Assignment|== Equality| not Negation|\n",
        "|+ Sum| != Inequality| and Conjunction|\n",
        "|- Difference| > More than| or Disjunction|\n",
        "|* Product| >= More or equal | |\n",
        "|/ Division| < Less than | |\n",
        "|% Remainder| <= Less or equal||\n",
        "|** Power ||"
      ],
      "metadata": {
        "id": "UATRHJQZUUA6"
      }
    },
    {
      "cell_type": "code",
      "source": [
        "a = 10\n",
        "b = a+100\n",
        "print(\"b after addition = \", b,'\\n')\n",
        "\n",
        "rem = b%10\n",
        "quotient = b//10\n",
        "print(\"Remainder of b divided by 10 is \", rem,'\\n')\n",
        "print(\"Quotient of b divided by 10 is \", quotient,'\\n')\n",
        "\n",
        "c = rem**5\n",
        "print(\"C : rem ^5 =\",c,'\\n')"
      ],
      "metadata": {
        "id": "ZwdpBVgVT8Kg"
      },
      "execution_count": null,
      "outputs": []
    },
    {
      "cell_type": "code",
      "source": [
        "print(b==10)\n",
        "print((b-100)==10)\n",
        "print(b!=10)\n"
      ],
      "metadata": {
        "id": "8vX2FbCvZnpo"
      },
      "execution_count": null,
      "outputs": []
    },
    {
      "cell_type": "code",
      "source": [
        "print(b==110 and c==10)\n",
        "print(b==110 or  c==10)\n",
        "print(not c==10)"
      ],
      "metadata": {
        "id": "Qhk0VR3waW8Y"
      },
      "execution_count": null,
      "outputs": []
    },
    {
      "cell_type": "markdown",
      "source": [
        "### Control Flow : Branching, Iteration\n",
        "---\n",
        "\n",
        "Evaluate a block of code if a condition is True. \n",
        "\n",
        "In the following cells we will look at conditional satements(if-else) and loops(for and while)."
      ],
      "metadata": {
        "id": "Cqp8O_1yeDiU"
      }
    },
    {
      "cell_type": "code",
      "source": [
        "#if-else\n",
        "r=10\n",
        "area = 3.14*(r**2)\n",
        "\n",
        "if area>500:\n",
        "  print(\"This is a big circle\")\n",
        "elif area>100 and area<500:\n",
        "  print(\"This is a mediumn circle\")\n",
        "else:\n",
        "  print(\"This is a small circle\")"
      ],
      "metadata": {
        "id": "4FB7-w8Yl_j3"
      },
      "execution_count": null,
      "outputs": []
    },
    {
      "cell_type": "code",
      "source": [
        "#while loop:\n",
        "\n",
        "i=100\n",
        "sum=0\n",
        "while i>0:\n",
        "  sum=sum+i  #can be written as sum+=i as well\n",
        "  i=i-1\n",
        "print(\"Sum of first 100 numbers is \",sum)"
      ],
      "metadata": {
        "id": "65widh7nmcJb"
      },
      "execution_count": null,
      "outputs": []
    },
    {
      "cell_type": "code",
      "source": [
        "#for loop:\n",
        "sum=0\n",
        "for i in range(100):\n",
        "  sum+=i\n",
        "print(\"Sum of first 100 numbers is \",sum)"
      ],
      "metadata": {
        "id": "_Hq3JmrQnLOY"
      },
      "execution_count": null,
      "outputs": []
    },
    {
      "cell_type": "code",
      "source": [
        "#Using Break Statement\n",
        "sum = 0\n",
        "i=100\n",
        "while True:\n",
        "  if i<0:\n",
        "    break\n",
        "  \n",
        "  sum+=i\n",
        "  i-=1\n",
        "\n",
        "print(\"Sum of first 100 numbers is \",sum)"
      ],
      "metadata": {
        "id": "utPh8fLUnm7W"
      },
      "execution_count": null,
      "outputs": []
    },
    {
      "cell_type": "markdown",
      "source": [
        "### Practice questions:\n",
        "1. Display Fibonacci Series upto 10 terms\n",
        "2. Display numbers at the odd indices of a list\n",
        "3. Print a list in reverse order"
      ],
      "metadata": {
        "id": "Kf73WHEagVy7"
      }
    },
    {
      "cell_type": "markdown",
      "source": [
        "### Compound Data Types\n",
        "1. Lists - Ordered Sequence - Mutable - Mixed element types\n",
        "2. Tuples - Ordered Sequence - Immutable - Mixed element types\n",
        "3. Dictionaries - key-values pairs, - keys have to be unique but values can be duplicate and of any format"
      ],
      "metadata": {
        "id": "nAd1qMMChbhZ"
      }
    },
    {
      "cell_type": "code",
      "source": [
        "#Lists\n",
        "l = [\"DataScienceBootcamp\",2023] #list declaration and initiation\n",
        "print(l)\n",
        "l.append(\"Section1\") #adding element to end of the list -> like a push operation\n",
        "print(l) \n",
        "new_list = l+[1,2,3]  #list concatenation\n",
        "print(new_list)\n",
        "print(new_list[1:3]) #Slicing\n",
        "new_list[3]=100\n",
        "print(new_list)"
      ],
      "metadata": {
        "id": "mV7E53B2ohdZ"
      },
      "execution_count": null,
      "outputs": []
    },
    {
      "cell_type": "code",
      "source": [
        "#Tuples\n",
        "t = ()\n",
        "t=(\"NYU\",\"DataScience\",\"bootcamp\",2023)\n",
        "print(t)\n",
        "print(t[2])\n",
        "print(t[1:3])\n",
        "# t[2]=5"
      ],
      "metadata": {
        "id": "Yf6mJqw3iBCZ"
      },
      "execution_count": null,
      "outputs": []
    },
    {
      "cell_type": "code",
      "source": [
        "#Dicrtionaries\n",
        "d={}\n",
        "d['key']='value'\n",
        "d['key2']=10\n",
        "print(d)\n",
        "print(d['key'])\n",
        "print(d.get('key3'))"
      ],
      "metadata": {
        "id": "Z8Ql8cdqjzBi"
      },
      "execution_count": null,
      "outputs": []
    },
    {
      "cell_type": "markdown",
      "source": [
        "### Operations on Objects\n",
        "Everything in python is an object. Strings are objects, lists are objects, dictionaries are objects, arrays are objects, etc. \n",
        "\n",
        "And objects have functions. We use dot '.' to invoke functions. eg-\n",
        "\n",
        "```\n",
        "l = [1,23,5]\n",
        "l.append(10) \n",
        "print(l)\n",
        "```\n",
        "\n",
        "In this section we will go over some common functions that will prove to be very useful in your day to day tasks.\n"
      ],
      "metadata": {
        "id": "C4OU5O4QJKQW"
      }
    },
    {
      "cell_type": "markdown",
      "source": [
        "#### Operations on Strings"
      ],
      "metadata": {
        "id": "TxilPAKt_8Ys"
      }
    },
    {
      "cell_type": "code",
      "source": [
        "a = \"This is Data Science Bootcamp\"\n",
        "b = \"Held in Spring'\"+\"2023\"\n",
        "print(a+\" \"+b)"
      ],
      "metadata": {
        "id": "oFGkcwhskZUe"
      },
      "execution_count": null,
      "outputs": []
    },
    {
      "cell_type": "code",
      "source": [
        "s = \"12345\"\n",
        "print(s[0])\n",
        "print(s[1:3])\n",
        "print(s[-3])"
      ],
      "metadata": {
        "id": "mKrW1WfOlhIG"
      },
      "execution_count": null,
      "outputs": []
    },
    {
      "cell_type": "code",
      "source": [
        "#Predict the output of this code block\n",
        "s[1]='5'"
      ],
      "metadata": {
        "id": "DGgjuDjhlj4N"
      },
      "execution_count": null,
      "outputs": []
    },
    {
      "cell_type": "code",
      "source": [
        "list(s)"
      ],
      "metadata": {
        "id": "usIwEE6H-nUu"
      },
      "execution_count": null,
      "outputs": []
    },
    {
      "cell_type": "code",
      "source": [
        "TestString = \"I am part of the Data Science Bootcamp at NYU\"\n",
        "TestString.split(\" \")"
      ],
      "metadata": {
        "id": "6_7V6zqh-4Ve"
      },
      "execution_count": null,
      "outputs": []
    },
    {
      "cell_type": "code",
      "source": [
        "l = TestString.split(\" \")\n",
        "\" \".join(l)"
      ],
      "metadata": {
        "id": "s_4BKX6s_HSc"
      },
      "execution_count": null,
      "outputs": []
    },
    {
      "cell_type": "markdown",
      "source": [
        "#### Operations on Lists"
      ],
      "metadata": {
        "id": "tv6C8iWaACNg"
      }
    },
    {
      "cell_type": "code",
      "source": [
        "l =['apple','mango']\n",
        "m = ['banana', 'orange']\n",
        "lm = l+m\n",
        "print(lm)\n",
        "print(lm.append('kiwi'))\n",
        "print(lm[-1])\n",
        "\n",
        "print(\"----------------\")\n",
        "\n",
        "print(lm[::-1]) # Reverse Indexing\n",
        "lm.append(lm[:2])\n",
        "print(lm)\n",
        "print(\"----------------\")\n",
        "print(\"2D indexing\")\n",
        "print(lm[-1][0])"
      ],
      "metadata": {
        "id": "zyMvaFJq_bqb"
      },
      "execution_count": null,
      "outputs": []
    },
    {
      "cell_type": "markdown",
      "source": [
        "#### Operations on Dictionaries"
      ],
      "metadata": {
        "id": "77Cn0pIIo-C5"
      }
    },
    {
      "cell_type": "code",
      "source": [
        "mydict = {\"a\":1, \"b\":2, \"c\":[3,4]}\n",
        "print(mydict['a']) #accessing an element\n",
        "print(len(mydict)) #number of keys in a dictionary\n",
        "print(mydict.keys()) # accessing the keys of the dictionary\n",
        "print(mydict.values()) #iterable over the values of the dictionary\n",
        "print(mydict.items())  #iterable with (key,value) pairs"
      ],
      "metadata": {
        "id": "Ai4v5R7XAyVr"
      },
      "execution_count": null,
      "outputs": []
    },
    {
      "cell_type": "markdown",
      "source": [
        "Iterating over lists, strings and dictionaries"
      ],
      "metadata": {
        "id": "8_G8iKPqsOZk"
      }
    },
    {
      "cell_type": "code",
      "source": [
        "mylist = [1,2,3]\n",
        "for i in mylist:\n",
        "  print(i)"
      ],
      "metadata": {
        "id": "EMS53F1Aq1b9"
      },
      "execution_count": null,
      "outputs": []
    },
    {
      "cell_type": "code",
      "source": [
        "mydict = {\"a\":1, \"b\":2, \"c\":[3,4]}\n",
        "for i in mydict.keys():\n",
        "  print(mydict[i])"
      ],
      "metadata": {
        "id": "X6oS8G8_q4Jd"
      },
      "execution_count": null,
      "outputs": []
    },
    {
      "cell_type": "code",
      "source": [
        "mystring = \"This is a test string\"\n",
        "for i in mystring:\n",
        "  print(i)"
      ],
      "metadata": {
        "id": "ZMABhqGDsjdg"
      },
      "execution_count": null,
      "outputs": []
    },
    {
      "cell_type": "markdown",
      "source": [
        "### Practice Question"
      ],
      "metadata": {
        "id": "4JeAs1WZssRE"
      }
    },
    {
      "cell_type": "code",
      "source": [
        "string = \"\"\"\n",
        "ChatGPT has created this text to provide tips on creating interesting paragraphs. \n",
        "First, start with a clear topic sentence that introduces the main idea. \n",
        "Then, support the topic sentence with specific details, examples, and evidence.\n",
        "Vary the sentence length and structure to keep the reader engaged.\n",
        "Finally, end with a strong concluding sentence that summarizes the main points.\n",
        "Remember, practice makes perfect!\n",
        "\"\"\"\n",
        "#Your task is to count the number of different words in this text"
      ],
      "metadata": {
        "id": "MOSWtcyLsoKr"
      },
      "execution_count": null,
      "outputs": []
    },
    {
      "cell_type": "markdown",
      "source": [
        "### **Functions in Python**\n",
        "\n",
        "The general syntax for defining a function is as follows - \n",
        "\n",
        "```\n",
        "def function_name([optional parameters]):\n",
        "  \"\"\"DocString\"\"\"\n",
        "  <body>\n",
        "  return <output>\n",
        "```\n",
        "\n",
        "\n",
        "\n"
      ],
      "metadata": {
        "id": "ZCIagPRDviy9"
      }
    },
    {
      "cell_type": "code",
      "source": [
        "# Function for testing if a number is even\n",
        "def test_even_number(number):\n",
        "  return number%2==0    # Returns true if the remainder is 0, else returns false"
      ],
      "metadata": {
        "id": "CBzEkA2Vtsin"
      },
      "execution_count": null,
      "outputs": []
    },
    {
      "cell_type": "code",
      "source": [
        "test_even_number(12)"
      ],
      "metadata": {
        "id": "eD1Nh5Sgw9X_"
      },
      "execution_count": null,
      "outputs": []
    },
    {
      "cell_type": "markdown",
      "source": [
        "### Scope of the variables\n",
        "Its very important to understand the scope of variables. It can be -\n",
        "1. Global scope - Variables defined outside and accessible within the functions(\"Visible everywhere\")\n",
        "2. Local scope - variable defined within the function and not accessible outside the function\n"
      ],
      "metadata": {
        "id": "PM6rsoDbx2BU"
      }
    },
    {
      "cell_type": "code",
      "source": [
        "def f(x):\n",
        "  x=x**2\n",
        "  print(\"Printing y from within the function \",y)\n",
        "  return x\n",
        "\n",
        "y = 10\n",
        "print(f(y))\n",
        "print(y)\n",
        "print(x)\n"
      ],
      "metadata": {
        "id": "Bz-7CumgxAFS"
      },
      "execution_count": null,
      "outputs": []
    },
    {
      "cell_type": "markdown",
      "source": [
        "### Classes\n",
        "Python classes can be defined in the following way - \n",
        "\n",
        "\n",
        "```\n",
        "class myclass(<super_class>):\n",
        "  \"\"\" DocString\"\"\"\n",
        "  <body>\n",
        "\n",
        "```\n",
        "\n",
        "Example: Defining a class 'dog'\n",
        "\n",
        "\n",
        "```\n",
        "class dog(animal):\n",
        "  speed = 40\n",
        "  breed = 'Not Specified'\n",
        "  domesticated = True\n",
        "\n",
        "```\n",
        "\n",
        "Creating an object of that class \n",
        "```\n",
        "luna = dog()\n",
        "print(luna.domesticated) #Accessing object variables\n",
        "luna.speed=30 #Setting object variables\n",
        "luna.cuteness = 'XXXL'  # Creating new object variable\n",
        "```\n",
        "\n",
        "\n"
      ],
      "metadata": {
        "id": "Vy1W4kao8ibN"
      }
    },
    {
      "cell_type": "markdown",
      "source": [
        "## Take home exercises\n",
        "\n",
        "1. Write a function that takes a word as an argument and returns the number of vowels in the word\n",
        "2. Iterate through the following list of animals and print each one in all caps.\n",
        "\n",
        "  animals=['tiger', 'elephant', 'monkey', 'zebra', 'panther']\n",
        "\n",
        "3. Iterate from 1 to 15, printing whether the number is odd or even\n",
        "4. Take two integers as input from user and return the sum"
      ],
      "metadata": {
        "id": "ezlXaH5e2up_"
      }
    },
    {
      "cell_type": "markdown",
      "source": [
        "## Additional Challenge - movies data challenge"
      ],
      "metadata": {
        "id": "8BtJxyCP7MN2"
      }
    },
    {
      "cell_type": "code",
      "source": [
        "# List of movies dictionaries:\n",
        "\n",
        "movies = [\n",
        "{\n",
        "\"name\": \"Usual Suspects\", \n",
        "\"imdb\": 7.0,\n",
        "\"category\": \"Thriller\"\n",
        "},\n",
        "{\n",
        "\"name\": \"Hitman\",\n",
        "\"imdb\": 6.3,\n",
        "\"category\": \"Action\"\n",
        "},\n",
        "{\n",
        "\"name\": \"Dark Knight\",\n",
        "\"imdb\": 9.0,\n",
        "\"category\": \"Adventure\"\n",
        "},\n",
        "{\n",
        "\"name\": \"The Help\",\n",
        "\"imdb\": 8.0,\n",
        "\"category\": \"Drama\"\n",
        "},\n",
        "{\n",
        "\"name\": \"The Choice\",\n",
        "\"imdb\": 6.2,\n",
        "\"category\": \"Romance\"\n",
        "},\n",
        "{\n",
        "\"name\": \"Colonia\",\n",
        "\"imdb\": 7.4,\n",
        "\"category\": \"Romance\"\n",
        "},\n",
        "{\n",
        "\"name\": \"Love\",\n",
        "\"imdb\": 6.0,\n",
        "\"category\": \"Romance\"\n",
        "},\n",
        "{\n",
        "\"name\": \"Bride Wars\",\n",
        "\"imdb\": 5.4,\n",
        "\"category\": \"Romance\"\n",
        "},\n",
        "{\n",
        "\"name\": \"AlphaJet\",\n",
        "\"imdb\": 3.2,\n",
        "\"category\": \"War\"\n",
        "},\n",
        "{\n",
        "\"name\": \"Ringing Crime\",\n",
        "\"imdb\": 4.0,\n",
        "\"category\": \"Crime\"\n",
        "},\n",
        "{\n",
        "\"name\": \"Joking muck\",\n",
        "\"imdb\": 7.2,\n",
        "\"category\": \"Comedy\"\n",
        "},\n",
        "{\n",
        "\"name\": \"What is the name\",\n",
        "\"imdb\": 9.2,\n",
        "\"category\": \"Suspense\"\n",
        "},\n",
        "{\n",
        "\"name\": \"Detective\",\n",
        "\"imdb\": 7.0,\n",
        "\"category\": \"Suspense\"\n",
        "},\n",
        "{\n",
        "\"name\": \"Exam\",\n",
        "\"imdb\": 4.2,\n",
        "\"category\": \"Thriller\"\n",
        "},\n",
        "{\n",
        "\"name\": \"We Two\",\n",
        "\"imdb\": 7.2,\n",
        "\"category\": \"Romance\"\n",
        "}\n",
        "]"
      ],
      "metadata": {
        "id": "fgFQyB700G4P"
      },
      "execution_count": null,
      "outputs": []
    },
    {
      "cell_type": "markdown",
      "source": [
        "1. Write a function that takes a movie dictionary from the above list and return true if imdb rating is greater than 5. Additionally, you can also alter the function to return whether the movie has low, medium or high rating\n",
        "\n",
        "2. Write a function that accepts the entire list of movies and a category and returns the average score for that category.\n",
        "\n",
        "3. Write a function that accepts the movie list and a category and returns all the movies belonging to that category. Your function should be able to throw an error if that category does not exist\n"
      ],
      "metadata": {
        "id": "EiR5GmoY7VzW"
      }
    }
  ]
}
